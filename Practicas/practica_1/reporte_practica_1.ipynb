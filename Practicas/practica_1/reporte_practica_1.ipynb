{
 "cells": [
  {
   "cell_type": "markdown",
   "id": "2dfdeca5-c7b0-4ef2-831c-077b003c8c5c",
   "metadata": {},
   "source": [
    "## <strong>Tarea 01 Curso CI-0163 - Análisis de Grandes Volúmenes de Datos </strong> <br>Carlos Espinoza B92786\n",
    "\n"
   ]
  },
  {
   "cell_type": "markdown",
   "id": "1064b477-5995-4620-a7c2-88823bbca087",
   "metadata": {},
   "source": [
    "### Reporte python_basic_1\n",
    "\n",
    "* Ya contaba con un conocimiento intermedio del lenguaje python, además del uso básico de Pandas como librería para la interpretación de datos. \n",
    "* Fue bueno poder recordar mediante ejemplos, cuales eran los diferentes tipos de gráficas que se utilizaban para poder hacer un análisis más a profundidad. \n",
    "\n",
    "#### Algunas Funciones Importantes\n",
    "* `table.describe()`: Permite ver las medidas estadísticas básicas de los elementos de las tablas\n",
    "* `table.boxplot()`: Permite hacer el análisis de los datos a modo de boxplot para ver cual es la disperción de los datos\n",
    "\n",
    "#### Aspecto que desconocía y me llamó la atención: Lambda\n"
   ]
  },
  {
   "cell_type": "code",
   "execution_count": 2,
   "id": "2b865972-44d7-4074-b68c-40136ef0cad8",
   "metadata": {},
   "outputs": [
    {
     "data": {
      "text/plain": [
       "16"
      ]
     },
     "execution_count": 2,
     "metadata": {},
     "output_type": "execute_result"
    }
   ],
   "source": [
    "cuadrado = lambda x: x**2\n",
    "cuadrado(4)"
   ]
  },
  {
   "cell_type": "markdown",
   "id": "4b9d5b5e-096f-4a90-bb50-20aa9ee39aa5",
   "metadata": {},
   "source": [
    "### Reporte python_basic_2\n",
    "* También contaba con el conocimiento de la librería numpy. Utilizamos esta librería en el curso de Algebra Lineal para poder hacer disntintas operaciones con matrices y arreglos\n",
    "* Esta librería es super útil para crear arreglos de distintas dimensiones. Para el curso de programación paralela los utilizamos para poder aplicar algoritmos de agrupación dado un arreglo con datos.\n",
    "* Cabe rescatar que al utilizar este módulo se puede asegurar la rapidez y en buen manejo de la memoria.\n",
    "\n",
    "#### Algunas Funciones Importantes\n",
    "* `numpy.array()`: Función que nos permite crear los arreglos de NxM dimensiones\n",
    "* `type(element)`: Nos permite conocer el tipo de dato con el que estamos trabajando\n",
    "* `numpy.arrange(start, stop, increment)`: Nos permite crear arreglos que siguen algún tipo de serie numérica"
   ]
  },
  {
   "cell_type": "markdown",
   "id": "f06d6941-7937-4785-be53-83cf64c17b3e",
   "metadata": {},
   "source": [
    "### Reporte python_charts\n",
    "\n",
    "* Nunca había trabajado con gráficas en python, por lo que esta prácticas va a servir como una guía rápida para poder mostrar los resultados y poder exportar los cuadros como imágenes para poder generar reportes\n",
    "* Se tienen múltiples combinaciones para mostrar una función, como los colores de la línea, los valores máximos de X y Y, posiciones de las leyendas en la gráfica, y tipos de línea\n",
    "#### Algunas Funciones Importantes\n",
    "* `fig.savefig('my_figure.png')`: Permite guardar las figuras resultantes de la graficadora\n",
    "* `Image('my_figure.png')`: Permite cargar las imágenes dentro del código\n"
   ]
  }
 ],
 "metadata": {
  "kernelspec": {
   "display_name": "Python 3 (ipykernel)",
   "language": "python",
   "name": "python3"
  },
  "language_info": {
   "codemirror_mode": {
    "name": "ipython",
    "version": 3
   },
   "file_extension": ".py",
   "mimetype": "text/x-python",
   "name": "python",
   "nbconvert_exporter": "python",
   "pygments_lexer": "ipython3",
   "version": "3.9.7"
  }
 },
 "nbformat": 4,
 "nbformat_minor": 5
}
