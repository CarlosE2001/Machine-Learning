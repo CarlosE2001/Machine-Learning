{
 "cells": [
  {
   "cell_type": "markdown",
   "metadata": {},
   "source": [
    "### **Universidad de Costa Rica <br>Escuela de Ciencias de la Computación e Informática <br>Análisis de Grandes Volúmenes de Datos <br>Carlos Espinoza B92786**"
   ]
  },
  {
   "cell_type": "markdown",
   "metadata": {},
   "source": [
    "# Feature Selection\n",
    "\n",
    "Se trata del proceso de de reducir el número de variables a considerar cuando se desarrolla un modelo predictivo. Es deseable reducir la cantidad de variables pues estas tienen un impacto en la `carga computacional` y el `costo del modelado`. Esta práctica es utilizada para `aumentar el rendimiento` del modelado.\n",
    "\n",
    "Los métodos de selección basados en estadística evalúan la relación que existe entre la variable de entrada, con la variable objetivo mediante estadísticas y seleccionando aquellas variables de entrada que tengan la `relación más fuerte`.\n",
    "\n",
    "\n",
    "- Feature Selection: Se selecciona una parte de las variables de entrada en el dataset\n",
    "\t- Sin supervisar: No se usa la variable objetivo (Se remueven las variables redundantes)\n",
    "\t\t- Correlaciones \n",
    "\t- Supervisadas: Usan una variable objetivo \n",
    "\t\t- Wrapper: Busca subconjuntos que se relacionen\n",
    "\t\t\t- RFE\n",
    "\t\t- Filter: Se seleccionan variables que tengan buena relación con la variable objetivo\n",
    "\t\t\t- Métodos estadísticos\n",
    "\t\t\t- Métodos de importancia de las variables\n",
    "\t\t- Intrínseco: Algoritmos que durante el entrenamiento determinan automáticamente las variables viables\n",
    "\t\t\t- Árboles de decisión\n",
    "- Reducción de la dimensionalidad: Pasar los datos entrantes a una forma de espacio reducido."
   ]
  },
  {
   "cell_type": "markdown",
   "metadata": {},
   "source": [
    "# Comentarios\n",
    "\n",
    "Me gustaría poder poner en práctica estos conceptos en prácticas que contengan ejemplos de en cuales situaciones es mejor utilizar uno u otro método. Sería útil a la hora de tratar con un dataset con un gran número de `features`, con estos métodos podemos reducir el tamaño de los datos, permitiendo así un manejo más fácil y rápido."
   ]
  }
 ],
 "metadata": {
  "interpreter": {
   "hash": "d84c614dc5133cfe8afdd35cd0e89d9e7c494d88a4d58a2a5280097bf69d7348"
  },
  "kernelspec": {
   "display_name": "Python 3.9.7 ('base')",
   "language": "python",
   "name": "python3"
  },
  "language_info": {
   "name": "python",
   "version": "3.9.7"
  },
  "orig_nbformat": 4
 },
 "nbformat": 4,
 "nbformat_minor": 2
}
