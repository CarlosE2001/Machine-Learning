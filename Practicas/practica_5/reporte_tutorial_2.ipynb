{
 "cells": [
  {
   "cell_type": "markdown",
   "metadata": {},
   "source": [
    "### **Práctica 5: Árboles <br>Análisis de Grandes Volúmenes de Datos CI-<br>Carlos Espinoza B92786 <br>I-2022**"
   ]
  },
  {
   "cell_type": "markdown",
   "metadata": {},
   "source": [
    "# How to Develop an Extra Trees Ensemble with Python"
   ]
  },
  {
   "cell_type": "markdown",
   "metadata": {},
   "source": [
    "## Extra Trees Para Clasificación"
   ]
  },
  {
   "cell_type": "code",
   "execution_count": 1,
   "metadata": {},
   "outputs": [
    {
     "name": "stdout",
     "output_type": "stream",
     "text": [
      "Accuracy: 0.907 (0.026)\n"
     ]
    }
   ],
   "source": [
    "# evaluate extra trees algorithm for classification\n",
    "from numpy import mean\n",
    "from numpy import std\n",
    "from sklearn.datasets import make_classification\n",
    "from sklearn.model_selection import cross_val_score\n",
    "from sklearn.model_selection import RepeatedStratifiedKFold\n",
    "from sklearn.ensemble import ExtraTreesClassifier\n",
    "# define dataset\n",
    "X, y = make_classification(n_samples=1000, n_features=20, n_informative=15, n_redundant=5, random_state=4)\n",
    "# define the model\n",
    "model = ExtraTreesClassifier()\n",
    "# evaluate the model\n",
    "cv = RepeatedStratifiedKFold(n_splits=10, n_repeats=3, random_state=1)\n",
    "n_scores = cross_val_score(model, X, y, scoring='accuracy', cv=cv, n_jobs=-1, error_score='raise')\n",
    "# report performance\n",
    "print('Accuracy: %.3f (%.3f)' % (mean(n_scores), std(n_scores)))"
   ]
  },
  {
   "cell_type": "markdown",
   "metadata": {},
   "source": [
    "## Predicciones"
   ]
  },
  {
   "cell_type": "code",
   "execution_count": 2,
   "metadata": {},
   "outputs": [
    {
     "name": "stdout",
     "output_type": "stream",
     "text": [
      "Predicted Class: 0\n"
     ]
    }
   ],
   "source": [
    "# make predictions using extra trees for classification\n",
    "from sklearn.datasets import make_classification\n",
    "from sklearn.ensemble import ExtraTreesClassifier\n",
    "# define dataset\n",
    "X, y = make_classification(n_samples=1000, n_features=20, n_informative=15, n_redundant=5, random_state=4)\n",
    "# define the model\n",
    "model = ExtraTreesClassifier()\n",
    "# fit the model on the whole dataset\n",
    "model.fit(X, y)\n",
    "# make a single prediction\n",
    "row = [[-3.52169364,4.00560592,2.94756812,-0.09755101,-0.98835896,1.81021933,-0.32657994,1.08451928,4.98150546,-2.53855736,3.43500614,1.64660497,-4.1557091,-1.55301045,-0.30690987,-1.47665577,6.818756,0.5132918,4.3598337,-4.31785495]]\n",
    "yhat = model.predict(row)\n",
    "print('Predicted Class: %d' % yhat[0])"
   ]
  },
  {
   "cell_type": "markdown",
   "metadata": {},
   "source": [
    "## Extra Trees Para Regresión"
   ]
  },
  {
   "cell_type": "code",
   "execution_count": 3,
   "metadata": {},
   "outputs": [
    {
     "name": "stdout",
     "output_type": "stream",
     "text": [
      "MAE: -69.646 (5.254)\n"
     ]
    }
   ],
   "source": [
    "# evaluate extra trees ensemble for regression\n",
    "from numpy import mean\n",
    "from numpy import std\n",
    "from sklearn.datasets import make_regression\n",
    "from sklearn.model_selection import cross_val_score\n",
    "from sklearn.model_selection import RepeatedKFold\n",
    "from sklearn.ensemble import ExtraTreesRegressor\n",
    "# define dataset\n",
    "X, y = make_regression(n_samples=1000, n_features=20, n_informative=15, noise=0.1, random_state=3)\n",
    "# define the model\n",
    "model = ExtraTreesRegressor()\n",
    "# evaluate the model\n",
    "cv = RepeatedKFold(n_splits=10, n_repeats=3, random_state=1)\n",
    "n_scores = cross_val_score(model, X, y, scoring='neg_mean_absolute_error', cv=cv, n_jobs=-1, error_score='raise')\n",
    "# report performance\n",
    "print('MAE: %.3f (%.3f)' % (mean(n_scores), std(n_scores)))"
   ]
  },
  {
   "cell_type": "markdown",
   "metadata": {},
   "source": [
    "## Predicciones"
   ]
  },
  {
   "cell_type": "code",
   "execution_count": 4,
   "metadata": {},
   "outputs": [
    {
     "name": "stdout",
     "output_type": "stream",
     "text": [
      "Prediction: 53\n"
     ]
    }
   ],
   "source": [
    "# extra trees for making predictions for regression\n",
    "from sklearn.datasets import make_regression\n",
    "from sklearn.ensemble import ExtraTreesRegressor\n",
    "# define dataset\n",
    "X, y = make_regression(n_samples=1000, n_features=20, n_informative=15, noise=0.1, random_state=3)\n",
    "# define the model\n",
    "model = ExtraTreesRegressor()\n",
    "# fit the model on the whole dataset\n",
    "model.fit(X, y)\n",
    "# make a single prediction\n",
    "row = [[-0.56996683,0.80144889,2.77523539,1.32554027,-1.44494378,-0.80834175,-0.84142896,0.57710245,0.96235932,-0.66303907,-1.13994112,0.49887995,1.40752035,-0.2995842,-0.05708706,-2.08701456,1.17768469,0.13474234,0.09518152,-0.07603207]]\n",
    "yhat = model.predict(row)\n",
    "print('Prediction: %d' % yhat[0])"
   ]
  },
  {
   "cell_type": "markdown",
   "metadata": {},
   "source": [
    "## Hiperparámetros de los Extra Trees"
   ]
  },
  {
   "cell_type": "markdown",
   "metadata": {},
   "source": [
    "## Número de árboles"
   ]
  },
  {
   "cell_type": "code",
   "execution_count": 5,
   "metadata": {},
   "outputs": [
    {
     "name": "stdout",
     "output_type": "stream",
     "text": [
      ">10 0.859 (0.032)\n",
      ">50 0.901 (0.028)\n",
      ">100 0.908 (0.025)\n",
      ">500 0.912 (0.023)\n",
      ">1000 0.911 (0.027)\n",
      ">5000 0.914 (0.026)\n"
     ]
    },
    {
     "data": {
      "text/plain": [
       "5000"
      ]
     },
     "execution_count": 5,
     "metadata": {},
     "output_type": "execute_result"
    }
   ],
   "source": [
    "# explore extra trees number of trees effect on performance\n",
    "from numpy import mean\n",
    "from numpy import std\n",
    "from sklearn.datasets import make_classification\n",
    "from sklearn.model_selection import cross_val_score\n",
    "from sklearn.model_selection import RepeatedStratifiedKFold\n",
    "from sklearn.ensemble import ExtraTreesClassifier\n",
    "from matplotlib import pyplot\n",
    "\n",
    "# get the dataset\n",
    "def get_dataset():\n",
    "\tX, y = make_classification(n_samples=1000, n_features=20, n_informative=15, n_redundant=5, random_state=4)\n",
    "\treturn X, y\n",
    "\n",
    "# get a list of models to evaluate\n",
    "def get_models():\n",
    "\tmodels = dict()\n",
    "\t# define number of trees to consider\n",
    "\tn_trees = [10, 50, 100, 500, 1000, 5000]\n",
    "\tfor n in n_trees:\n",
    "\t\tmodels[str(n)] = ExtraTreesClassifier(n_estimators=n)\n",
    "\treturn models\n",
    "\n",
    "# evaluate a given model using cross-validation\n",
    "def evaluate_model(model, X, y):\n",
    "\t# define the evaluation procedure\n",
    "\tcv = RepeatedStratifiedKFold(n_splits=10, n_repeats=3, random_state=1)\n",
    "\t# evaluate the model and collect the results\n",
    "\tscores = cross_val_score(model, X, y, scoring='accuracy', cv=cv, n_jobs=-1)\n",
    "\treturn scores\n",
    "\n",
    "def testTreeNumber(X, y, models, visualization = False):\n",
    "\tresults, names, avgTreeNumber = list(), list(), list()\n",
    "\tfor name, model in models.items():\n",
    "\t\t# evaluate the model\n",
    "\t\tscores = evaluate_model(model, X, y)\n",
    "\t\t# store the results\n",
    "\t\tresults.append(scores)\n",
    "\t\tnames.append(name)\n",
    "\t\tavgTreeNumber.append(mean(scores))\n",
    "\t\t# summarize the performance along the way\n",
    "\t\tprint('>%s %.3f (%.3f)' % (name, mean(scores), std(scores)))\n",
    "\n",
    "\tif(visualization):\n",
    "\t\t# plot model performance for comparison\n",
    "\t\tpyplot.boxplot(results, labels=names, showmeans=True)\n",
    "\t\tpyplot.show()\n",
    "\n",
    "\tbestTreeNumber = int(names[avgTreeNumber.index(max(avgTreeNumber))])\n",
    "\n",
    "\treturn bestTreeNumber\n",
    "\t\n",
    "# define dataset\n",
    "X, y = get_dataset()\n",
    "# get the models to evaluate\n",
    "models = get_models()\n",
    "# evaluate the models and store results\n",
    "\n",
    "testTreeNumber(X, y, models)"
   ]
  },
  {
   "cell_type": "markdown",
   "metadata": {},
   "source": [
    "## Número de Features"
   ]
  },
  {
   "cell_type": "code",
   "execution_count": 6,
   "metadata": {},
   "outputs": [
    {
     "name": "stdout",
     "output_type": "stream",
     "text": [
      ">1 0.895 (0.025)\n",
      ">2 0.901 (0.026)\n",
      ">3 0.907 (0.026)\n",
      ">4 0.905 (0.026)\n",
      ">5 0.910 (0.024)\n",
      ">6 0.907 (0.025)\n",
      ">7 0.905 (0.026)\n",
      ">8 0.907 (0.029)\n",
      ">9 0.913 (0.023)\n",
      ">10 0.908 (0.025)\n",
      ">11 0.908 (0.026)\n",
      ">12 0.906 (0.027)\n",
      ">13 0.908 (0.027)\n",
      ">14 0.904 (0.027)\n",
      ">15 0.905 (0.028)\n",
      ">16 0.904 (0.027)\n",
      ">17 0.910 (0.022)\n",
      ">18 0.907 (0.025)\n",
      ">19 0.907 (0.023)\n",
      ">20 0.906 (0.026)\n"
     ]
    },
    {
     "data": {
      "image/png": "[encoded data removed]",
      "text/plain": [
       "<Figure size 432x288 with 1 Axes>"
      ]
     },
     "metadata": {
      "needs_background": "light"
     },
     "output_type": "display_data"
    },
    {
     "data": {
      "text/plain": [
       "9"
      ]
     },
     "execution_count": 6,
     "metadata": {},
     "output_type": "execute_result"
    }
   ],
   "source": [
    "# explore extra trees number of features effect on performance\n",
    "from numpy import mean\n",
    "from numpy import std\n",
    "from sklearn.datasets import make_classification\n",
    "from sklearn.model_selection import cross_val_score\n",
    "from sklearn.model_selection import RepeatedStratifiedKFold\n",
    "from sklearn.ensemble import ExtraTreesClassifier\n",
    "from matplotlib import pyplot\n",
    "\n",
    "# get the dataset\n",
    "def get_dataset():\n",
    "\tX, y = make_classification(n_samples=1000, n_features=20, n_informative=15, n_redundant=5, random_state=4)\n",
    "\treturn X, y\n",
    "\n",
    "# get a list of models to evaluate\n",
    "def get_models():\n",
    "\tmodels = dict()\n",
    "\t# explore number of features from 1 to 20\n",
    "\tfor i in range(1, 21):\n",
    "\t\tmodels[str(i)] = ExtraTreesClassifier(max_features=i)\n",
    "\treturn models\n",
    "\n",
    "# evaluate a given model using cross-validation\n",
    "def evaluate_model(model, X, y):\n",
    "\t# define the evaluation procedure\n",
    "\tcv = RepeatedStratifiedKFold(n_splits=10, n_repeats=3, random_state=1)\n",
    "\t# evaluate the model and collect the results\n",
    "\tscores = cross_val_score(model, X, y, scoring='accuracy', cv=cv, n_jobs=-1)\n",
    "\treturn scores\n",
    "\n",
    "\n",
    "def testFeatureNumber(X, y, models, visualization = False):\n",
    "\t\n",
    "\t# evaluate the models and store results\n",
    "\tresults, names, avgScores = list(), list(), list()\n",
    "\tfor name, model in models.items():\n",
    "\t\t# evaluate the model\n",
    "\t\tscores = evaluate_model(model, X, y)\n",
    "\t\t# store the results\n",
    "\t\tresults.append(scores)\n",
    "\t\tnames.append(name)\n",
    "\t\tavgScores.append(mean(scores))\n",
    "\t\t# summarize the performance along the way\n",
    "\t\tprint('>%s %.3f (%.3f)' % (name, mean(scores), std(scores)))\n",
    "\n",
    "\tbestNumberOfFeatures = avgScores.index(max(avgScores)) + 1\n",
    "\n",
    "\tif(visualization):\n",
    "\t\t# plot model performance for comparison\n",
    "\t\tpyplot.boxplot(results, labels=names, showmeans=True)\n",
    "\t\tpyplot.show()\n",
    "\n",
    "\treturn bestNumberOfFeatures\n",
    "\n",
    "# define dataset\n",
    "X, y = get_dataset()\n",
    "# get the models to evaluate\n",
    "models = get_models()\n",
    "\n",
    "testFeatureNumber(X, y, models, True)"
   ]
  },
  {
   "cell_type": "markdown",
   "metadata": {},
   "source": [
    "## Muestras mínimas por Split"
   ]
  },
  {
   "cell_type": "code",
   "execution_count": 7,
   "metadata": {},
   "outputs": [
    {
     "name": "stdout",
     "output_type": "stream",
     "text": [
      ">2 0.907 (0.028)\n",
      ">3 0.909 (0.027)\n",
      ">4 0.904 (0.024)\n",
      ">5 0.907 (0.026)\n",
      ">6 0.901 (0.024)\n",
      ">7 0.902 (0.025)\n",
      ">8 0.902 (0.024)\n",
      ">9 0.896 (0.027)\n",
      ">10 0.895 (0.031)\n",
      ">11 0.890 (0.025)\n",
      ">12 0.886 (0.029)\n",
      ">13 0.892 (0.025)\n",
      ">14 0.890 (0.027)\n"
     ]
    },
    {
     "data": {
      "image/png": "[encoded data removed]",
      "text/plain": [
       "<Figure size 432x288 with 1 Axes>"
      ]
     },
     "metadata": {
      "needs_background": "light"
     },
     "output_type": "display_data"
    },
    {
     "name": "stdout",
     "output_type": "stream",
     "text": [
      "Num Splits:  3\n"
     ]
    }
   ],
   "source": [
    "# explore extra trees minimum number of samples for a split effect on performance\n",
    "from numpy import mean\n",
    "from numpy import std\n",
    "from sklearn.datasets import make_classification\n",
    "from sklearn.model_selection import cross_val_score\n",
    "from sklearn.model_selection import RepeatedStratifiedKFold\n",
    "from sklearn.ensemble import ExtraTreesClassifier\n",
    "from matplotlib import pyplot\n",
    "\n",
    "# get the dataset\n",
    "def get_dataset():\n",
    "\tX, y = make_classification(n_samples=1000, n_features=20, n_informative=15, n_redundant=5, random_state=4)\n",
    "\treturn X, y\n",
    "\n",
    "# get a list of models to evaluate\n",
    "def get_models():\n",
    "\tmodels = dict()\n",
    "\t# explore the number of samples per split from 2 to 14\n",
    "\tfor i in range(2, 15):\n",
    "\t\tmodels[str(i)] = ExtraTreesClassifier(min_samples_split=i)\n",
    "\treturn models\n",
    "\n",
    "# evaluate a given model using cross-validation\n",
    "def evaluate_model(model, X, y):\n",
    "\t# define the evaluation procedure\n",
    "\tcv = RepeatedStratifiedKFold(n_splits=10, n_repeats=3, random_state=1)\n",
    "\t# evaluate the model and collect the results\n",
    "\tscores = cross_val_score(model, X, y, scoring='accuracy', cv=cv, n_jobs=-1)\n",
    "\treturn scores\n",
    "\n",
    "def testSamplesPerSplit(X, y, models, visualization = False):\n",
    "\t# evaluate the models and store results\n",
    "\tresults, names, avgNumSamples = list(), list(), list()\n",
    "\tfor name, model in models.items():\n",
    "\t\t# evaluate the model\n",
    "\t\tscores = evaluate_model(model, X, y)\n",
    "\t\t# store the results\n",
    "\t\tresults.append(scores)\n",
    "\t\tnames.append(name)\n",
    "\t\tavgNumSamples.append(mean(scores))\n",
    "\t\t# summarize the performance along the way\n",
    "\t\tprint('>%s %.3f (%.3f)' % (name, mean(scores), std(scores)))\n",
    "\n",
    "\tbestSamplesNum = avgNumSamples.index(max(avgNumSamples)) + 2\n",
    "\t# plot model performance for comparison\n",
    "\n",
    "\tif(visualization):\n",
    "\t\tpyplot.boxplot(results, labels=names, showmeans=True)\n",
    "\t\tpyplot.show()\n",
    "\n",
    "\treturn bestSamplesNum\n",
    "\n",
    "# define dataset\n",
    "X, y = get_dataset()\n",
    "# get the models to evaluate\n",
    "models = get_models()\n",
    "\n",
    "print(\"Num Splits: \", testSamplesPerSplit(X, y, models, True))"
   ]
  },
  {
   "cell_type": "markdown",
   "metadata": {},
   "source": [
    "# Comentarios y Resumen"
   ]
  },
  {
   "cell_type": "markdown",
   "metadata": {},
   "source": [
    "## Extra Trees (Extremely Randomized Trees)\n",
    "\n",
    "Es un algoritmo de conjuntos utilizado en el aprendizaje de máquina para hacer predicciones utilizando múltiples árboles de decisión.\n",
    "\n",
    "- Es fácil uso por la poca cantidad de hiperparámetros\n",
    "- Heurísticas sensibles\n",
    "- Está asociado a otros algoritmos como Random Forest o Bootstraping"
   ]
  },
  {
   "cell_type": "markdown",
   "metadata": {},
   "source": [
    "# Comentarios de los parámetros"
   ]
  },
  {
   "cell_type": "markdown",
   "metadata": {},
   "source": [
    "Mediante el uso de funciones podemos hacer un algoritmo que haga pruebas para determinar cual es la mejor combinación del árbol para obtener el resultado más acertado"
   ]
  },
  {
   "cell_type": "markdown",
   "metadata": {},
   "source": [
    "### Estructuración del código"
   ]
  },
  {
   "cell_type": "code",
   "execution_count": 15,
   "metadata": {},
   "outputs": [
    {
     "name": "stdout",
     "output_type": "stream",
     "text": [
      "Iteration: 0\n",
      ">2 0.907 (0.026)\n",
      ">3 0.904 (0.025)\n",
      ">4 0.905 (0.028)\n",
      ">5 0.901 (0.028)\n",
      ">6 0.906 (0.025)\n",
      ">7 0.905 (0.024)\n",
      ">8 0.900 (0.029)\n",
      ">9 0.896 (0.027)\n",
      ">10 0.895 (0.034)\n",
      ">11 0.894 (0.028)\n",
      ">12 0.897 (0.027)\n",
      ">13 0.888 (0.031)\n",
      ">14 0.888 (0.028)\n",
      ">2 0.912 (0.023)\n",
      ">3 0.908 (0.025)\n",
      ">4 0.905 (0.027)\n",
      ">5 0.904 (0.026)\n",
      ">6 0.903 (0.029)\n",
      ">7 0.901 (0.027)\n",
      ">8 0.900 (0.030)\n",
      ">9 0.900 (0.025)\n",
      ">10 0.900 (0.028)\n",
      ">11 0.889 (0.029)\n",
      ">12 0.891 (0.026)\n",
      ">13 0.885 (0.026)\n",
      ">14 0.886 (0.029)\n",
      ">2 0.910 (0.027)\n",
      ">3 0.902 (0.026)\n",
      ">4 0.905 (0.024)\n",
      ">5 0.901 (0.027)\n",
      ">6 0.899 (0.029)\n",
      ">7 0.899 (0.031)\n",
      ">8 0.896 (0.028)\n",
      ">9 0.898 (0.027)\n",
      ">10 0.896 (0.033)\n",
      ">11 0.893 (0.029)\n",
      ">12 0.896 (0.026)\n",
      ">13 0.894 (0.022)\n",
      ">14 0.886 (0.029)\n",
      "Iteration: 1\n",
      ">2 0.909 (0.028)\n",
      ">3 0.907 (0.027)\n",
      ">4 0.908 (0.025)\n",
      ">5 0.906 (0.028)\n",
      ">6 0.905 (0.027)\n",
      ">7 0.903 (0.023)\n",
      ">8 0.895 (0.024)\n",
      ">9 0.900 (0.027)\n",
      ">10 0.896 (0.024)\n",
      ">11 0.897 (0.025)\n",
      ">12 0.888 (0.028)\n",
      ">13 0.889 (0.030)\n",
      ">14 0.888 (0.027)\n",
      ">2 0.908 (0.031)\n",
      ">3 0.906 (0.027)\n",
      ">4 0.905 (0.027)\n",
      ">5 0.906 (0.025)\n",
      ">6 0.899 (0.027)\n",
      ">7 0.901 (0.029)\n",
      ">8 0.898 (0.025)\n",
      ">9 0.899 (0.023)\n",
      ">10 0.894 (0.027)\n",
      ">11 0.894 (0.028)\n",
      ">12 0.894 (0.028)\n",
      ">13 0.892 (0.030)\n",
      ">14 0.886 (0.030)\n",
      ">2 0.908 (0.030)\n",
      ">3 0.909 (0.026)\n",
      ">4 0.901 (0.029)\n",
      ">5 0.905 (0.024)\n",
      ">6 0.898 (0.024)\n",
      ">7 0.899 (0.027)\n",
      ">8 0.899 (0.023)\n",
      ">9 0.899 (0.025)\n",
      ">10 0.899 (0.029)\n",
      ">11 0.897 (0.023)\n",
      ">12 0.889 (0.023)\n",
      ">13 0.892 (0.027)\n",
      ">14 0.888 (0.029)\n",
      "Iteration: 2\n",
      ">2 0.904 (0.025)\n",
      ">3 0.904 (0.026)\n",
      ">4 0.905 (0.027)\n",
      ">5 0.906 (0.030)\n",
      ">6 0.903 (0.022)\n",
      ">7 0.901 (0.025)\n",
      ">8 0.902 (0.026)\n",
      ">9 0.894 (0.028)\n",
      ">10 0.897 (0.026)\n",
      ">11 0.894 (0.031)\n",
      ">12 0.889 (0.027)\n",
      ">13 0.889 (0.029)\n",
      ">14 0.888 (0.031)\n",
      ">2 0.906 (0.026)\n",
      ">3 0.906 (0.027)\n",
      ">4 0.902 (0.027)\n",
      ">5 0.902 (0.029)\n",
      ">6 0.904 (0.028)\n",
      ">7 0.903 (0.029)\n",
      ">8 0.897 (0.024)\n",
      ">9 0.895 (0.030)\n",
      ">10 0.897 (0.021)\n",
      ">11 0.899 (0.026)\n",
      ">12 0.890 (0.031)\n",
      ">13 0.890 (0.031)\n",
      ">14 0.891 (0.031)\n",
      ">2 0.906 (0.028)\n",
      ">3 0.907 (0.027)\n",
      ">4 0.903 (0.021)\n",
      ">5 0.901 (0.028)\n",
      ">6 0.897 (0.030)\n",
      ">7 0.896 (0.028)\n",
      ">8 0.898 (0.023)\n",
      ">9 0.897 (0.027)\n",
      ">10 0.891 (0.028)\n",
      ">11 0.895 (0.030)\n",
      ">12 0.893 (0.029)\n",
      ">13 0.889 (0.030)\n",
      ">14 0.895 (0.029)\n",
      "[2, 2, 5] [1, 1, 2] [2, 3, 3]\n"
     ]
    }
   ],
   "source": [
    "# define dataset\n",
    "X, y = get_dataset()\n",
    "# get the models to evaluate\n",
    "models = get_models()\n",
    "\n",
    "avgNumTrees, avgNumFeatures, avgNumSample = list(), list(), list()\n",
    "\n",
    "\n",
    "for i in range(0, 3):\n",
    "\tprint(\"Iteration:\", i)\n",
    "\tavgNumTrees.append(testTreeNumber(X, y, models))\n",
    "\tavgNumFeatures.append(testFeatureNumber(X, y, models))\n",
    "\tavgNumSample.append(testSamplesPerSplit(X, y, models))\n",
    "\n",
    "print(avgNumTrees, avgNumFeatures, avgNumSample)"
   ]
  },
  {
   "cell_type": "markdown",
   "metadata": {},
   "source": [
    "Lastimosamente la prueba no funcionó probablemente por un error mío o del notebook. El objetivo era obtener un estimado de cual sería la mejor configuración para el modelo, tomando en cuenta el promedio de N iteraciones para los diferentes hiperparámetros.\n",
    "\n",
    "Sin embargo, como se pudo observar en las pruebas del ejercicio, no siempre más es mejor. La cantidad de features, por ejemplo, obtuvo altos valores de acertividad tanto con pocas (2) como con casi el máximo programado (17), por lo que sería incorrecto asumir que entre más features se tomen en cuenta, más acertivo sería nuestro modelo. También, otro ejemplo claro es la cantidad de árboles. En este caso el modelo con 5000 árboles tomaba un tiempo considerable en comparación a las demás configuraciones, pero, a la hora de ver resultados, se demostró que tuvo mejor rendimiento el modelo con solo 500 árboles."
   ]
  }
 ],
 "metadata": {
  "interpreter": {
   "hash": "d84c614dc5133cfe8afdd35cd0e89d9e7c494d88a4d58a2a5280097bf69d7348"
  },
  "kernelspec": {
   "display_name": "Python 3.9.7 ('base')",
   "language": "python",
   "name": "python3"
  },
  "language_info": {
   "codemirror_mode": {
    "name": "ipython",
    "version": 3
   },
   "file_extension": ".py",
   "mimetype": "text/x-python",
   "name": "python",
   "nbconvert_exporter": "python",
   "pygments_lexer": "ipython3",
   "version": "3.9.7"
  }
 },
 "nbformat": 4,
 "nbformat_minor": 4
}
