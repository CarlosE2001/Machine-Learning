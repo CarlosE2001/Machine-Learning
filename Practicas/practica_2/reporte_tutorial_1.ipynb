{
 "cells": [
  {
   "cell_type": "markdown",
   "metadata": {},
   "source": [
    "## Reporte Practica 2: Procesamiento de datos <br />Carlos Espinoza - B92786"
   ]
  },
  {
   "cell_type": "markdown",
   "metadata": {},
   "source": [
    "### <strong>Comentarios del ejecicio </strong>"
   ]
  },
  {
   "cell_type": "markdown",
   "metadata": {},
   "source": [
    "Este artículo fue de gran ayuda para entender mejor el valor que tiene la preparación de los datos. La preparación de los datos se refiere a la transformación de datos sin refinar a unos que sean mucho más adecuados para el modelado. Esto es necesario pues los datos iniciales pueden contener errores o que simplemente los algortimos a usar requiren de un cierto tratamiento previo como lo puede ser la tipificación o estructuración.\n",
    "\n",
    "### <strong> Técnicas de preparación de datos</strong> \n",
    "\n",
    "Estos puede agregar filas o culumnas según sea el tipo elegido.\n",
    "\n",
    "- Preparación de filas\n",
    "\t- Remover duplicados\n",
    "\t- Remover datos extremos\n",
    "\t- Muestreo\n",
    "\n",
    "<hr/>\n",
    "\n",
    "- Preparación de columnas\n",
    "\t- Selección de características\n",
    "\t- Características polinomiales \n",
    "\t- \"One hot encoding\"\n",
    "\n",
    "<hr/>\n",
    "\n",
    "- Valores\n",
    "\t- Escala de datos\n",
    "\t- Cambio en la distribución\n",
    "\n",
    "<hr/>\n",
    "\n",
    "- Columnas y valores\n",
    "\t- Reducción en la dimensión\n",
    "\n",
    "<hr/>\n",
    "\n",
    "- Filas y valores\n",
    "\t- Consolidación de filas\n",
    "\n",
    "### <strong>Materia profesional</strong>\n",
    "Desde mi punto de vista este tipo de análisis es necesario para cualquier investigador que necesite realizar un análisis para la toma de una decisión. En mi experiencia personal la preparación de datos (básica) me ha sido útil para poder obtener promedios y valores para generar reportes de costos y beneficios."
   ]
  }
 ],
 "metadata": {
  "interpreter": {
   "hash": "d84c614dc5133cfe8afdd35cd0e89d9e7c494d88a4d58a2a5280097bf69d7348"
  },
  "kernelspec": {
   "display_name": "Python 3.9.7 ('base')",
   "language": "python",
   "name": "python3"
  },
  "language_info": {
   "codemirror_mode": {
    "name": "ipython",
    "version": 3
   },
   "file_extension": ".py",
   "mimetype": "text/x-python",
   "name": "python",
   "nbconvert_exporter": "python",
   "pygments_lexer": "ipython3",
   "version": "3.9.7"
  },
  "orig_nbformat": 4
 },
 "nbformat": 4,
 "nbformat_minor": 2
}
