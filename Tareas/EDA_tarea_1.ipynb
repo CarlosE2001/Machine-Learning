{
 "cells": [
  {
   "cell_type": "markdown",
   "metadata": {},
   "source": [
    "# Segunda Parte\n",
    "\n",
    "### **Configurar los módulos para empezar con el análisis**\n",
    "\n",
    "### Herramientas a utilizar\n",
    "\n",
    "1. Pandas\n",
    "2. pyplot\n"
   ]
  },
  {
   "cell_type": "code",
   "execution_count": 1,
   "metadata": {},
   "outputs": [],
   "source": [
    "import pandas as pd\n",
    "import matplotlib.pyplot as plt\n",
    "import numpy as np\n",
    "from numpy import unique\n",
    "\n",
    "plt.style.use('ggplot')\n",
    "\n",
    "covidRecords = None\n",
    "try:\n",
    "\tcovidRecords = pd.read_csv(\"COVID_USA_REFINED.csv\", sep = ',')\n",
    "except:\n",
    "\tprint(\"No se encontro el archivo\")\n"
   ]
  },
  {
   "cell_type": "markdown",
   "metadata": {},
   "source": [
    "### Muestra de lo que contiene el dataset"
   ]
  },
  {
   "cell_type": "code",
   "execution_count": 2,
   "metadata": {},
   "outputs": [
    {
     "data": {
      "text/html": [
       "<div>\n",
       "<style scoped>\n",
       "    .dataframe tbody tr th:only-of-type {\n",
       "        vertical-align: middle;\n",
       "    }\n",
       "\n",
       "    .dataframe tbody tr th {\n",
       "        vertical-align: top;\n",
       "    }\n",
       "\n",
       "    .dataframe thead th {\n",
       "        text-align: right;\n",
       "    }\n",
       "</style>\n",
       "<table border=\"1\" class=\"dataframe\">\n",
       "  <thead>\n",
       "    <tr style=\"text-align: right;\">\n",
       "      <th></th>\n",
       "      <th>UID</th>\n",
       "      <th>iso2</th>\n",
       "      <th>iso3</th>\n",
       "      <th>FIPS</th>\n",
       "      <th>Admin2</th>\n",
       "      <th>Province_State</th>\n",
       "      <th>Lat</th>\n",
       "      <th>Long_</th>\n",
       "      <th>Combined_Key</th>\n",
       "      <th>Date</th>\n",
       "      <th>Confirmed</th>\n",
       "      <th>Deaths</th>\n",
       "    </tr>\n",
       "  </thead>\n",
       "  <tbody>\n",
       "    <tr>\n",
       "      <th>0</th>\n",
       "      <td>16</td>\n",
       "      <td>AS</td>\n",
       "      <td>ASM</td>\n",
       "      <td>60.0</td>\n",
       "      <td>American Samoa</td>\n",
       "      <td>American Samoa</td>\n",
       "      <td>-14.271000</td>\n",
       "      <td>-170.132000</td>\n",
       "      <td>American Samoa, US</td>\n",
       "      <td>2020-01-22T00:00:00Z</td>\n",
       "      <td>0</td>\n",
       "      <td>0</td>\n",
       "    </tr>\n",
       "    <tr>\n",
       "      <th>1</th>\n",
       "      <td>316</td>\n",
       "      <td>GU</td>\n",
       "      <td>GUM</td>\n",
       "      <td>66.0</td>\n",
       "      <td>Guam</td>\n",
       "      <td>Guam</td>\n",
       "      <td>13.444300</td>\n",
       "      <td>144.793700</td>\n",
       "      <td>Guam, US</td>\n",
       "      <td>2020-01-22T00:00:00Z</td>\n",
       "      <td>0</td>\n",
       "      <td>0</td>\n",
       "    </tr>\n",
       "    <tr>\n",
       "      <th>2</th>\n",
       "      <td>580</td>\n",
       "      <td>MP</td>\n",
       "      <td>MNP</td>\n",
       "      <td>69.0</td>\n",
       "      <td>Northern Mariana Islands</td>\n",
       "      <td>Northern Mariana Islands</td>\n",
       "      <td>15.097900</td>\n",
       "      <td>145.673900</td>\n",
       "      <td>Northern Mariana Islands, US</td>\n",
       "      <td>2020-01-22T00:00:00Z</td>\n",
       "      <td>0</td>\n",
       "      <td>0</td>\n",
       "    </tr>\n",
       "    <tr>\n",
       "      <th>3</th>\n",
       "      <td>63072001</td>\n",
       "      <td>PR</td>\n",
       "      <td>PRI</td>\n",
       "      <td>72001.0</td>\n",
       "      <td>Adjuntas</td>\n",
       "      <td>Puerto Rico</td>\n",
       "      <td>18.180117</td>\n",
       "      <td>-66.754367</td>\n",
       "      <td>Adjuntas, Puerto Rico, US</td>\n",
       "      <td>2020-01-22T00:00:00Z</td>\n",
       "      <td>0</td>\n",
       "      <td>0</td>\n",
       "    </tr>\n",
       "    <tr>\n",
       "      <th>4</th>\n",
       "      <td>63072003</td>\n",
       "      <td>PR</td>\n",
       "      <td>PRI</td>\n",
       "      <td>72003.0</td>\n",
       "      <td>Aguada</td>\n",
       "      <td>Puerto Rico</td>\n",
       "      <td>18.360255</td>\n",
       "      <td>-67.175131</td>\n",
       "      <td>Aguada, Puerto Rico, US</td>\n",
       "      <td>2020-01-22T00:00:00Z</td>\n",
       "      <td>0</td>\n",
       "      <td>0</td>\n",
       "    </tr>\n",
       "  </tbody>\n",
       "</table>\n",
       "</div>"
      ],
      "text/plain": [
       "        UID iso2 iso3     FIPS                    Admin2  \\\n",
       "0        16   AS  ASM     60.0            American Samoa   \n",
       "1       316   GU  GUM     66.0                      Guam   \n",
       "2       580   MP  MNP     69.0  Northern Mariana Islands   \n",
       "3  63072001   PR  PRI  72001.0                  Adjuntas   \n",
       "4  63072003   PR  PRI  72003.0                    Aguada   \n",
       "\n",
       "             Province_State        Lat       Long_  \\\n",
       "0            American Samoa -14.271000 -170.132000   \n",
       "1                      Guam  13.444300  144.793700   \n",
       "2  Northern Mariana Islands  15.097900  145.673900   \n",
       "3               Puerto Rico  18.180117  -66.754367   \n",
       "4               Puerto Rico  18.360255  -67.175131   \n",
       "\n",
       "                   Combined_Key                  Date  Confirmed  Deaths  \n",
       "0            American Samoa, US  2020-01-22T00:00:00Z          0       0  \n",
       "1                      Guam, US  2020-01-22T00:00:00Z          0       0  \n",
       "2  Northern Mariana Islands, US  2020-01-22T00:00:00Z          0       0  \n",
       "3     Adjuntas, Puerto Rico, US  2020-01-22T00:00:00Z          0       0  \n",
       "4       Aguada, Puerto Rico, US  2020-01-22T00:00:00Z          0       0  "
      ]
     },
     "execution_count": 2,
     "metadata": {},
     "output_type": "execute_result"
    }
   ],
   "source": [
    "covidRecords.head(5) # Se enseña una muestra de los primeros 5 datos del dataset"
   ]
  },
  {
   "cell_type": "markdown",
   "metadata": {},
   "source": [
    "## Técnicas EDA"
   ]
  },
  {
   "cell_type": "markdown",
   "metadata": {},
   "source": [
    "### Estadística Descriptiva\n",
    "\n",
    "Mediante los comando de Pandas podemos obtener una descripción básica de que como es que se encuentran nuestras variables o atributos."
   ]
  },
  {
   "cell_type": "code",
   "execution_count": 7,
   "metadata": {},
   "outputs": [
    {
     "data": {
      "text/html": [
       "<div>\n",
       "<style scoped>\n",
       "    .dataframe tbody tr th:only-of-type {\n",
       "        vertical-align: middle;\n",
       "    }\n",
       "\n",
       "    .dataframe tbody tr th {\n",
       "        vertical-align: top;\n",
       "    }\n",
       "\n",
       "    .dataframe thead th {\n",
       "        text-align: right;\n",
       "    }\n",
       "</style>\n",
       "<table border=\"1\" class=\"dataframe\">\n",
       "  <thead>\n",
       "    <tr style=\"text-align: right;\">\n",
       "      <th></th>\n",
       "      <th>UID</th>\n",
       "      <th>FIPS</th>\n",
       "      <th>Lat</th>\n",
       "      <th>Long_</th>\n",
       "      <th>Confirmed</th>\n",
       "      <th>Deaths</th>\n",
       "    </tr>\n",
       "  </thead>\n",
       "  <tbody>\n",
       "    <tr>\n",
       "      <th>count</th>\n",
       "      <td>6.279200e+05</td>\n",
       "      <td>626040.000000</td>\n",
       "      <td>627920.000000</td>\n",
       "      <td>627920.000000</td>\n",
       "      <td>627920.000000</td>\n",
       "      <td>627920.000000</td>\n",
       "    </tr>\n",
       "    <tr>\n",
       "      <th>mean</th>\n",
       "      <td>8.342958e+07</td>\n",
       "      <td>33061.684685</td>\n",
       "      <td>36.707212</td>\n",
       "      <td>-88.601474</td>\n",
       "      <td>357.284285</td>\n",
       "      <td>17.536328</td>\n",
       "    </tr>\n",
       "    <tr>\n",
       "      <th>std</th>\n",
       "      <td>4.314702e+06</td>\n",
       "      <td>18636.156825</td>\n",
       "      <td>9.061572</td>\n",
       "      <td>21.715747</td>\n",
       "      <td>3487.282694</td>\n",
       "      <td>300.991466</td>\n",
       "    </tr>\n",
       "    <tr>\n",
       "      <th>min</th>\n",
       "      <td>1.600000e+01</td>\n",
       "      <td>60.000000</td>\n",
       "      <td>-14.271000</td>\n",
       "      <td>-174.159600</td>\n",
       "      <td>0.000000</td>\n",
       "      <td>0.000000</td>\n",
       "    </tr>\n",
       "    <tr>\n",
       "      <th>25%</th>\n",
       "      <td>8.401811e+07</td>\n",
       "      <td>19079.000000</td>\n",
       "      <td>33.895587</td>\n",
       "      <td>-97.790204</td>\n",
       "      <td>0.000000</td>\n",
       "      <td>0.000000</td>\n",
       "    </tr>\n",
       "    <tr>\n",
       "      <th>50%</th>\n",
       "      <td>8.402921e+07</td>\n",
       "      <td>31014.000000</td>\n",
       "      <td>38.002344</td>\n",
       "      <td>-89.486710</td>\n",
       "      <td>4.000000</td>\n",
       "      <td>0.000000</td>\n",
       "    </tr>\n",
       "    <tr>\n",
       "      <th>75%</th>\n",
       "      <td>8.404612e+07</td>\n",
       "      <td>47131.000000</td>\n",
       "      <td>41.573069</td>\n",
       "      <td>-82.311265</td>\n",
       "      <td>63.000000</td>\n",
       "      <td>1.000000</td>\n",
       "    </tr>\n",
       "    <tr>\n",
       "      <th>max</th>\n",
       "      <td>8.410000e+07</td>\n",
       "      <td>99999.000000</td>\n",
       "      <td>69.314792</td>\n",
       "      <td>145.673900</td>\n",
       "      <td>224051.000000</td>\n",
       "      <td>23500.000000</td>\n",
       "    </tr>\n",
       "  </tbody>\n",
       "</table>\n",
       "</div>"
      ],
      "text/plain": [
       "                UID           FIPS            Lat          Long_  \\\n",
       "count  6.279200e+05  626040.000000  627920.000000  627920.000000   \n",
       "mean   8.342958e+07   33061.684685      36.707212     -88.601474   \n",
       "std    4.314702e+06   18636.156825       9.061572      21.715747   \n",
       "min    1.600000e+01      60.000000     -14.271000    -174.159600   \n",
       "25%    8.401811e+07   19079.000000      33.895587     -97.790204   \n",
       "50%    8.402921e+07   31014.000000      38.002344     -89.486710   \n",
       "75%    8.404612e+07   47131.000000      41.573069     -82.311265   \n",
       "max    8.410000e+07   99999.000000      69.314792     145.673900   \n",
       "\n",
       "           Confirmed         Deaths  \n",
       "count  627920.000000  627920.000000  \n",
       "mean      357.284285      17.536328  \n",
       "std      3487.282694     300.991466  \n",
       "min         0.000000       0.000000  \n",
       "25%         0.000000       0.000000  \n",
       "50%         4.000000       0.000000  \n",
       "75%        63.000000       1.000000  \n",
       "max    224051.000000   23500.000000  "
      ]
     },
     "execution_count": 7,
     "metadata": {},
     "output_type": "execute_result"
    }
   ],
   "source": [
    "covidRecords.describe()"
   ]
  },
  {
   "cell_type": "markdown",
   "metadata": {},
   "source": [
    "Podemos ver información importante como los promedios y valores estándar. En este punto, podemos determinar si los datos se encuentran normalizados, es decir, se encuentran valores similares entre ellos, o bien, si existe la posibilidad de encontrar outliers dentro de estos."
   ]
  },
  {
   "cell_type": "markdown",
   "metadata": {},
   "source": [
    "### Correlación\n",
    "\n",
    "Mediante la función de Pandas `corr()` se pudo determinar que existe una base estadística que refuerza la conjetura lógica de que existe una relación entre la cantidad de casos confirmados y la cantidad de muertos"
   ]
  },
  {
   "cell_type": "code",
   "execution_count": 8,
   "metadata": {},
   "outputs": [
    {
     "data": {
      "text/html": [
       "<div>\n",
       "<style scoped>\n",
       "    .dataframe tbody tr th:only-of-type {\n",
       "        vertical-align: middle;\n",
       "    }\n",
       "\n",
       "    .dataframe tbody tr th {\n",
       "        vertical-align: top;\n",
       "    }\n",
       "\n",
       "    .dataframe thead th {\n",
       "        text-align: right;\n",
       "    }\n",
       "</style>\n",
       "<table border=\"1\" class=\"dataframe\">\n",
       "  <thead>\n",
       "    <tr style=\"text-align: right;\">\n",
       "      <th></th>\n",
       "      <th>UID</th>\n",
       "      <th>FIPS</th>\n",
       "      <th>Lat</th>\n",
       "      <th>Long_</th>\n",
       "      <th>Confirmed</th>\n",
       "      <th>Deaths</th>\n",
       "    </tr>\n",
       "  </thead>\n",
       "  <tbody>\n",
       "    <tr>\n",
       "      <th>UID</th>\n",
       "      <td>1.000000</td>\n",
       "      <td>-0.198912</td>\n",
       "      <td>0.314965</td>\n",
       "      <td>-0.235989</td>\n",
       "      <td>0.012601</td>\n",
       "      <td>0.007961</td>\n",
       "    </tr>\n",
       "    <tr>\n",
       "      <th>FIPS</th>\n",
       "      <td>-0.198912</td>\n",
       "      <td>1.000000</td>\n",
       "      <td>-0.453129</td>\n",
       "      <td>0.483018</td>\n",
       "      <td>-0.026350</td>\n",
       "      <td>-0.010410</td>\n",
       "    </tr>\n",
       "    <tr>\n",
       "      <th>Lat</th>\n",
       "      <td>0.314965</td>\n",
       "      <td>-0.453129</td>\n",
       "      <td>1.000000</td>\n",
       "      <td>-0.721129</td>\n",
       "      <td>0.010885</td>\n",
       "      <td>0.013868</td>\n",
       "    </tr>\n",
       "    <tr>\n",
       "      <th>Long_</th>\n",
       "      <td>-0.235989</td>\n",
       "      <td>0.483018</td>\n",
       "      <td>-0.721129</td>\n",
       "      <td>1.000000</td>\n",
       "      <td>0.013257</td>\n",
       "      <td>0.021035</td>\n",
       "    </tr>\n",
       "    <tr>\n",
       "      <th>Confirmed</th>\n",
       "      <td>0.012601</td>\n",
       "      <td>-0.026350</td>\n",
       "      <td>0.010885</td>\n",
       "      <td>0.013257</td>\n",
       "      <td>1.000000</td>\n",
       "      <td>0.898629</td>\n",
       "    </tr>\n",
       "    <tr>\n",
       "      <th>Deaths</th>\n",
       "      <td>0.007961</td>\n",
       "      <td>-0.010410</td>\n",
       "      <td>0.013868</td>\n",
       "      <td>0.021035</td>\n",
       "      <td>0.898629</td>\n",
       "      <td>1.000000</td>\n",
       "    </tr>\n",
       "  </tbody>\n",
       "</table>\n",
       "</div>"
      ],
      "text/plain": [
       "                UID      FIPS       Lat     Long_  Confirmed    Deaths\n",
       "UID        1.000000 -0.198912  0.314965 -0.235989   0.012601  0.007961\n",
       "FIPS      -0.198912  1.000000 -0.453129  0.483018  -0.026350 -0.010410\n",
       "Lat        0.314965 -0.453129  1.000000 -0.721129   0.010885  0.013868\n",
       "Long_     -0.235989  0.483018 -0.721129  1.000000   0.013257  0.021035\n",
       "Confirmed  0.012601 -0.026350  0.010885  0.013257   1.000000  0.898629\n",
       "Deaths     0.007961 -0.010410  0.013868  0.021035   0.898629  1.000000"
      ]
     },
     "execution_count": 8,
     "metadata": {},
     "output_type": "execute_result"
    }
   ],
   "source": [
    "covidRecords.corr()"
   ]
  },
  {
   "cell_type": "markdown",
   "metadata": {},
   "source": [
    "En la tabla mostrada se puede observar como estos dos atrbutos, `Confirmed` y `Deaths`, son los únicos dos que tienen un alto grado de relación, siendo el más alto 1. A partir de esto podemos generar un gráfico para realizar un análisis más a profundidad."
   ]
  },
  {
   "cell_type": "markdown",
   "metadata": {},
   "source": [
    "### Visualización"
   ]
  },
  {
   "cell_type": "code",
   "execution_count": 16,
   "metadata": {},
   "outputs": [
    {
     "data": {
      "text/plain": [
       "<AxesSubplot:xlabel='Date', ylabel='Confirmed'>"
      ]
     },
     "execution_count": 16,
     "metadata": {},
     "output_type": "execute_result"
    },
    {
     "data": {
      "image/png": "[encoded data removed]",
      "text/plain": [
       "<Figure size 432x288 with 1 Axes>"
      ]
     },
     "metadata": {},
     "output_type": "display_data"
    }
   ],
   "source": [
    "covidRecords.plot(x = \"Date\", y = \"Confirmed\", kind= \"scatter\", color = \"black\")"
   ]
  },
  {
   "cell_type": "markdown",
   "metadata": {},
   "source": [
    "Por medio de la visualización de datos podemos encontrar anomalías en los datos, así como tener una idea de que tan dispersos están en relación de otros atributos y como se comportan a la hora de ser contrastados"
   ]
  },
  {
   "cell_type": "markdown",
   "metadata": {},
   "source": [
    "## Creación de Gráficas"
   ]
  },
  {
   "cell_type": "markdown",
   "metadata": {},
   "source": [
    "### Gráfica de Correlación entre los casos Confirmados y las Muertes"
   ]
  },
  {
   "cell_type": "code",
   "execution_count": 4,
   "metadata": {},
   "outputs": [
    {
     "data": {
      "text/plain": [
       "<AxesSubplot:xlabel='Deaths', ylabel='Confirmed'>"
      ]
     },
     "execution_count": 4,
     "metadata": {},
     "output_type": "execute_result"
    },
    {
     "data": {
      "image/png": "[encoded data removed]",
      "text/plain": [
       "<Figure size 432x288 with 1 Axes>"
      ]
     },
     "metadata": {},
     "output_type": "display_data"
    }
   ],
   "source": [
    "covidRecords.plot(x = \"Deaths\", y = \"Confirmed\", kind = 'scatter', color = \"green\")"
   ]
  },
  {
   "cell_type": "markdown",
   "metadata": {},
   "source": [
    "Como se puede observar el en gráfico, hubo un cierto grado de similitud entre los casos confirmados y las muertes registradas. El análisis de la gráfica nos permite llegar a la hipótesis de que en un principio es probable que solo se estuvieran danto contagios como mayoría, mientras que con el paso del tiempo, estos contagios iban a significar fatalidades. Por eso, al dispararse la tasa de contagio y junto con otros factores como la letalidad de las variantes, es que se tiene un comportamiento similar en el atributo de muertes."
   ]
  },
  {
   "cell_type": "markdown",
   "metadata": {},
   "source": [
    "### Gráfica de cantidad de muertes en la línea del tiempo"
   ]
  },
  {
   "cell_type": "code",
   "execution_count": 5,
   "metadata": {},
   "outputs": [
    {
     "data": {
      "text/plain": [
       "<AxesSubplot:xlabel='Date'>"
      ]
     },
     "execution_count": 5,
     "metadata": {},
     "output_type": "execute_result"
    },
    {
     "data": {
      "image/png": "[encoded data removed]",
      "text/plain": [
       "<Figure size 432x288 with 1 Axes>"
      ]
     },
     "metadata": {},
     "output_type": "display_data"
    }
   ],
   "source": [
    "covidRecords.plot(x = \"Date\", y = \"Deaths\", kind=\"line\")"
   ]
  },
  {
   "cell_type": "markdown",
   "metadata": {},
   "source": [
    "Al analizar este gráfico podemos ver como fue creciendo la curva de muertes a lo largo del tiempo. Este conjunto de datos solo muestra hasta junio de ese año, básicamente uno de los momentos más duros de la pandemia para Estados Unidos."
   ]
  },
  {
   "cell_type": "markdown",
   "metadata": {},
   "source": [
    "## Atributos de poco valor\n",
    "\n",
    "### Mostramos cuales son las características de los atributos"
   ]
  },
  {
   "cell_type": "code",
   "execution_count": 6,
   "metadata": {},
   "outputs": [
    {
     "name": "stdout",
     "output_type": "stream",
     "text": [
      "UID                3340\n",
      "iso2                  6\n",
      "iso3                  6\n",
      "FIPS               3330\n",
      "Admin2             1984\n",
      "Province_State       58\n",
      "Lat                3226\n",
      "Long_              3226\n",
      "Combined_Key       3340\n",
      "Date                188\n",
      "Confirmed         11091\n",
      "Deaths             2011\n",
      "dtype: int64\n"
     ]
    }
   ],
   "source": [
    "print(covidRecords.nunique())"
   ]
  },
  {
   "cell_type": "markdown",
   "metadata": {},
   "source": [
    "### Análisis de los atributos\n",
    "\n",
    "1. Como se puede observar por medio del uso de la función `nunique` de numpy, se llega a la conclusión de que los atributos `iso2` e `iso3` no aportan mucho al set de datos\n",
    "\n",
    "2. La columna `FIPS` a pesar de poseer gran cantidad de valores únicos, estos no aportan información para el análisis, ya que es utilizada como una forma de identificación, pero esta función ya es cubierta por el atributo `UID`"
   ]
  }
 ],
 "metadata": {
  "interpreter": {
   "hash": "d84c614dc5133cfe8afdd35cd0e89d9e7c494d88a4d58a2a5280097bf69d7348"
  },
  "kernelspec": {
   "display_name": "Python 3.9.7 ('base')",
   "language": "python",
   "name": "python3"
  },
  "language_info": {
   "codemirror_mode": {
    "name": "ipython",
    "version": 3
   },
   "file_extension": ".py",
   "mimetype": "text/x-python",
   "name": "python",
   "nbconvert_exporter": "python",
   "pygments_lexer": "ipython3",
   "version": "3.9.7"
  },
  "orig_nbformat": 4
 },
 "nbformat": 4,
 "nbformat_minor": 2
}
